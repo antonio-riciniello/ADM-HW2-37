{
 "cells": [
  {
   "cell_type": "markdown",
   "metadata": {},
   "source": [
    "# TQ1\n",
    "\n",
    "### 1. What does the algorithm compute?\n",
    "It is a recursive algorithm which returns the k-th smallest value of the list A."
   ]
  },
  {
   "cell_type": "code",
   "execution_count": null,
   "metadata": {},
   "outputs": [],
   "source": [
    "import random\n",
    "\n",
    "def alg(A, k):\n",
    "    L = []\n",
    "    R = []\n",
    "    s = random.choice(A)\n",
    "#     print(s)                                   #     to debug the expected result\n",
    "    \n",
    "    for elements in sorted(A):\n",
    "        if element <= s:\n",
    "            L.append(element)\n",
    "        else:\n",
    "            R.append(element)\n",
    "    r = len(L)\n",
    "    if k == r:\n",
    "        return s\n",
    "    elif k < r:  \n",
    "        return alg(L, k)\n",
    "    else:\n",
    "        return alg(R, k - r)"
   ]
  },
  {
   "cell_type": "raw",
   "metadata": {},
   "source": [
    "# Example   \n",
    "A =  [4, 9, 7, 10, 13, 2, 8, 17, 20, 15]           #     A: array of length n\n",
    "k = [k for k in range(1, len(A)+1)]                #     k: integers between 1 and n\n",
    "\n",
    "# 1st step\n",
    "s = 9\n",
    "L = [4, 9, 7, 2, 8]\n",
    "R = [10, 13, 17, 20, 15]\n",
    "\n",
    "# 2nd step\n",
    "s = 8\n",
    "L = [4, 7, 2, 8]\n",
    "R = [9]\n",
    "\n",
    "# 3rd step\n",
    "s = 7\n",
    "L = [4, 7, 2]\n",
    "R = [8]\n",
    "\n",
    "final result: 7, is the 3rd smallest value of the list."
   ]
  },
  {
   "cell_type": "markdown",
   "metadata": {},
   "source": [
    "### 2. What is asymptotically the running time of the algorithm in the worst case, as a function of n?\n",
    "The worst case for this algorithm is to never terminate: \n",
    "the choice of the variable \"s\" is in fact random, which means that the algorithm may never terminate. \n",
    "In fact, if the function that randomly chooses the value of s always chooses the wrong value, \n",
    "it would never come to an end, generating an infinite loop. Assuming that the algorithm sooner or later chooses the right element, (asymptotically in the worst) case its running time will be T(n)=O(n**2), due to the recursive call of the array."
   ]
  },
  {
   "cell_type": "markdown",
   "metadata": {},
   "source": [
    "### 3. What is asymptotically the running time of the algorithm in the best case?\n",
    "In the best case, k will be equal to r (by computing the lenght of the array L and comparing it to the legth of A)\n",
    "and just return the value of s: there will be just one iteration and so the running time is in the order of n, T(n)=O(n),\n",
    "because it has to check every element of the array for splitting it into sub-arrays R and L."
   ]
  },
  {
   "cell_type": "markdown",
   "metadata": {},
   "source": [
    "# TQ2\n",
    "\n",
    "### You are given the recursive function splitSwap, which accepts an array a, an index i, and a length n."
   ]
  },
  {
   "cell_type": "code",
   "execution_count": null,
   "metadata": {},
   "outputs": [],
   "source": [
    "def splitSwap(a, l, n):\n",
    "    if n <= 1:\n",
    "        return splitSwap(a, l, n/2), splitSwap(a, l+ n /2, n/2), swapList(a, l, n)"
   ]
  },
  {
   "cell_type": "markdown",
   "metadata": {},
   "source": [
    "### The subroutine swapList is described here:"
   ]
  },
  {
   "cell_type": "code",
   "execution_count": null,
   "metadata": {},
   "outputs": [],
   "source": [
    "def swapList(a, l, n):\n",
    "    for i = 0 to n/2:\n",
    "        tmp = a[l + i]\n",
    "        a[l + i] = a[l + n/2 + i]\n",
    "        a[l + n/2 + i] = tmp"
   ]
  },
  {
   "cell_type": "markdown",
   "metadata": {},
   "source": [
    "### 1. How much running time does it take to execute splitSwap(a, 0, n)? (We want a Big O analysis.)\n",
    "- function swapList does 3*n/2 istructions, so it has complexity Omega(n/2)\n",
    "- function splitSwap calls itself two times (2T) each time on half of the array a (n/2)\n",
    "\n",
    "So its running time is T(n)=2T(n/2)+Omega(n/2), and its total complexity is O(nlogn)."
   ]
  },
  {
   "cell_type": "markdown",
   "metadata": {},
   "source": [
    "### What does this algorithm do? Is it optimal?\n",
    "###### Describe the mechanism of the algorithm in details, we do not want to know only its final result.\n",
    "splitSwap function is a recursive function that follows the algorithm design paradigm \"divide and conquer\" (or \"divide et impera\"), in which a problem is recursively divided into small problems of the same nature until we find a \"base case\", the simplest case.\n",
    "To find the global solution of the problem, we combine the solution of every single sub-problem. In this case, the function takes as parameters an array a, an index i and the lenght of the array: in each step the algorithm divide the array into two sub-arrays, and then on each part of the array the same function will be called, until the lenght of the array will be 1 (base case).\n",
    "At the end of every single step swapList will be called: this function compute the iterative swap of the element in position l(+i) and position l+n/2(+i). The final result is the inverted array of the original array passed to the splitswap() function."
   ]
  },
  {
   "cell_type": "raw",
   "metadata": {},
   "source": [
    "If a = [1, 2, 3, 4, 5, 6, 7, 8] then the final solution will be a = [8, 7, 6, 5, 4, 3, 2, 1].\n",
    "\n",
    "1 step: [1, 2, 3, 4][5, 6, 7, 8]\n",
    "\n",
    "2 step: [1, 2][3, 4][5, 6][7, 8]\n",
    "\n",
    "3 step: [1][2][3][4][5][6][7][8]\n",
    "\n",
    "4 step: [2, 1][4, 3][6, 5][8, 7]\n",
    "\n",
    "5 step: [4, 3, 2, 1][8, 7, 6, 5]\n",
    "\n",
    "6 step: [8, 7, 6, 5, 4, 3, 2, 1]\n",
    "\n",
    "For sure it isn't optimal, because if the only pourpose of the algorithm is to swap every array element, it can be done with an algorithm with complexity O(n/2):"
   ]
  },
  {
   "cell_type": "code",
   "execution_count": null,
   "metadata": {},
   "outputs": [],
   "source": [
    "def swapA(a, n):\n",
    "    for i in range(0, n/2):\n",
    "        tmp = a[i]\n",
    "        a[i]=a[n/2-i]\n",
    "        a[n/2-i]=tmp"
   ]
  },
  {
   "cell_type": "markdown",
   "metadata": {},
   "source": [
    "#### HINT: Consider the scenario where len(a) and n are numbers that are a power of 2."
   ]
  },
  {
   "cell_type": "markdown",
   "metadata": {},
   "source": [
    "# TQ3"
   ]
  },
  {
   "cell_type": "markdown",
   "metadata": {},
   "source": [
    "### In the knapsack problem we are given n objects and each object i has a weight w_i and a value v_i. We are also given a weight budget W. The problem is to select a set of objects with total weight bounded by W that maximized the sum of their values. The following are three natural heuristics:"
   ]
  },
  {
   "cell_type": "markdown",
   "metadata": {},
   "source": [
    "- Order them in increasing order of weight and then visit them sequentially, adding them to the solution as long as the budget is not exceeded"
   ]
  },
  {
   "cell_type": "code",
   "execution_count": 89,
   "metadata": {},
   "outputs": [],
   "source": [
    "w = [36, 30, 14, 1, 5, 17, 10, 12]           # D.keys()\n",
    "v = [100, 90, 50, 4, 25, 63, 81, 70]         # D.values()\n",
    "# len(v) == len(w)\n",
    "D = dict(zip(w, v))"
   ]
  },
  {
   "cell_type": "code",
   "execution_count": 82,
   "metadata": {},
   "outputs": [
    {
     "name": "stdout",
     "output_type": "stream",
     "text": [
      "36 100\n",
      "30 90\n",
      "10 81\n",
      "12 70\n",
      "17 63\n",
      "14 50\n",
      "5 25\n",
      "1 4\n"
     ]
    }
   ],
   "source": [
    "sorted_values =sorted(D.values(), reverse = True) # Sort the values\n",
    "sorted_w = {}\n",
    "\n",
    "for i in sorted_values:\n",
    "    for k in D.keys():\n",
    "        if D[k] == i:\n",
    "            sorted_w[k] = D[k]\n",
    "            break\n",
    "for k, v in sorted_w.items():\n",
    "    print (k, v)"
   ]
  },
  {
   "cell_type": "markdown",
   "metadata": {},
   "source": [
    "- Order them in decreasing order of values, and then visit them sequentially, adding them to the solution if the budget is not exceeded"
   ]
  },
  {
   "cell_type": "code",
   "execution_count": 83,
   "metadata": {},
   "outputs": [
    {
     "name": "stdout",
     "output_type": "stream",
     "text": [
      "36 100\n",
      "30 90\n",
      "17 63\n",
      "14 50\n",
      "12 70\n",
      "10 81\n",
      "5 25\n",
      "1 4\n"
     ]
    }
   ],
   "source": [
    "for el in sorted(D, reverse = True):\n",
    "    print(el, D[el])"
   ]
  },
  {
   "cell_type": "markdown",
   "metadata": {},
   "source": [
    "- Order them in decreasing relative value (v_i / w_i), and then visit them sequentially, adding them to the solution if the budget is not exceeded"
   ]
  },
  {
   "cell_type": "code",
   "execution_count": 98,
   "metadata": {},
   "outputs": [
    {
     "name": "stdout",
     "output_type": "stream",
     "text": [
      "2.78\n",
      "3.0\n",
      "3.57\n",
      "4.0\n",
      "5.0\n",
      "3.71\n",
      "8.1\n",
      "5.83\n"
     ]
    }
   ],
   "source": [
    "for i in range(len(D)):\n",
    "    print(round(v[i]/w[i], 2))"
   ]
  }
 ],
 "metadata": {
  "kernelspec": {
   "display_name": "Python 3",
   "language": "python",
   "name": "python3"
  },
  "language_info": {
   "codemirror_mode": {
    "name": "ipython",
    "version": 3
   },
   "file_extension": ".py",
   "mimetype": "text/x-python",
   "name": "python",
   "nbconvert_exporter": "python",
   "pygments_lexer": "ipython3",
   "version": "3.7.3"
  }
 },
 "nbformat": 4,
 "nbformat_minor": 2
}
